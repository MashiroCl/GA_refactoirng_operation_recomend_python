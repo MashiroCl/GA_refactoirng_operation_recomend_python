{
 "cells": [
  {
   "cell_type": "code",
   "execution_count": 32,
   "metadata": {},
   "outputs": [],
   "source": [
    "import ast\n",
    "file = \"/Users/leichen/Desktop/GA.txt\"\n",
    "    \n",
    "with open(file) as f:\n",
    "    lines = f.readlines()\n",
    "data = [ast.literal_eval(line) for line in lines]\n",
    "\n",
    "qmood = {}\n",
    "qmood[\"Effectiveness\"]=[]\n",
    "qmood[\"Extendibility\"]=[]\n",
    "qmood[\"Flexibility\"]=[]\n",
    "qmood[\"Functionality\"]=[]\n",
    "qmood[\"Resusability\"]=[]\n",
    "qmood[\"Understandability\"]=[]\n",
    "qmood[\"HighestOwnership\"]=[]\n",
    "qmood[\"NumOfCommiter\"]=[]\n",
    "for each in data:\n",
    "    qmood[\"Effectiveness\"].append(each[0]) \n",
    "    qmood[\"Extendibility\"].append(each[1])\n",
    "    qmood[\"Flexibility\"].append(each[2])\n",
    "    qmood[\"Functionality\"].append(each[3])\n",
    "    qmood[\"Resusability\"].append(each[4])\n",
    "    qmood[\"Understandability\"].append(each[5])\n",
    "    qmood[\"HighestOwnership\"].append(each[6])\n",
    "    qmood[\"NumOfCommiter\"].append(each[7])\n",
    "    "
   ]
  },
  {
   "cell_type": "code",
   "execution_count": 50,
   "metadata": {},
   "outputs": [],
   "source": [
    "def readData(file):\n",
    "    with open(file) as f:\n",
    "        lines = f.readlines().split(\" \")\n",
    "    qmood = {}\n",
    "    qmood[\"Effectiveness\"]=[]\n",
    "    qmood[\"Extendibility\"]=[]\n",
    "    qmood[\"Flexibility\"]=[]\n",
    "    qmood[\"Functionality\"]=[]\n",
    "    qmood[\"Resusability\"]=[]\n",
    "    qmood[\"Understandability\"]=[]\n",
    "    qmood[\"HighestOwnership\"]=[]\n",
    "    qmood[\"NumOfCommiter\"]=[]\n",
    "    for each in lines:\n",
    "            qmood[\"Effectiveness\"].append(each[0]) \n",
    "    qmood[\"Extendibility\"].append(each[1])\n",
    "    qmood[\"Flexibility\"].append(each[2])\n",
    "    qmood[\"Functionality\"].append(each[3])\n",
    "    qmood[\"Resusability\"].append(each[4])\n",
    "    qmood[\"Understandability\"].append(each[5])\n",
    "    qmood[\"HighestOwnership\"].append(each[6])\n",
    "    qmood[\"NumOfCommiter\"].append(each[7])\n",
    "    return qmood"
   ]
  },
  {
   "cell_type": "code",
   "execution_count": 51,
   "metadata": {},
   "outputs": [],
   "source": [
    "import matplotlib.pyplot as plt\n",
    "def draw_pic(qmood,name=\"result\"):\n",
    "    count = 1\n",
    "    plt.tight_layout()\n",
    "    for each in qmood:\n",
    "        x=range(len(qmood[each]))\n",
    "        plt.subplot(2,4,count).title.set_text(each)\n",
    "        plt.plot(x,qmood[each])\n",
    "        count=count+1\n",
    "    plt.subplots_adjust(left=0,right=1,wspace =1, hspace =1)\n",
    "    plt.savefig( \"/Users/leichen/Desktop/\"+\"result\"+\".png\",dpi=500, bbox_inches = \"tight\")\n"
   ]
  },
  {
   "cell_type": "code",
   "execution_count": 52,
   "metadata": {},
   "outputs": [
    {
     "ename": "AttributeError",
     "evalue": "'list' object has no attribute 'split'",
     "output_type": "error",
     "traceback": [
      "\u001b[0;31m---------------------------------------------------------------------------\u001b[0m",
      "\u001b[0;31mAttributeError\u001b[0m                            Traceback (most recent call last)",
      "\u001b[0;32m<ipython-input-52-24d14a149a16>\u001b[0m in \u001b[0;36m<module>\u001b[0;34m\u001b[0m\n\u001b[1;32m      1\u001b[0m \u001b[0mfile\u001b[0m \u001b[0;34m=\u001b[0m \u001b[0;34m\"/Users/leichen/Desktop/FUN.NSGAII.SubsetSum\"\u001b[0m\u001b[0;34m\u001b[0m\u001b[0;34m\u001b[0m\u001b[0m\n\u001b[0;32m----> 2\u001b[0;31m \u001b[0mqmood\u001b[0m \u001b[0;34m=\u001b[0m \u001b[0mreadData\u001b[0m\u001b[0;34m(\u001b[0m\u001b[0mfile\u001b[0m\u001b[0;34m)\u001b[0m\u001b[0;34m\u001b[0m\u001b[0;34m\u001b[0m\u001b[0m\n\u001b[0m\u001b[1;32m      3\u001b[0m \u001b[0mdraw_dict\u001b[0m\u001b[0;34m(\u001b[0m\u001b[0mqmood\u001b[0m\u001b[0;34m,\u001b[0m\u001b[0mname\u001b[0m \u001b[0;34m=\u001b[0m \u001b[0;34m\"20211106.png\"\u001b[0m\u001b[0;34m)\u001b[0m\u001b[0;34m\u001b[0m\u001b[0;34m\u001b[0m\u001b[0m\n",
      "\u001b[0;32m<ipython-input-50-d58fdae8e0a6>\u001b[0m in \u001b[0;36mreadData\u001b[0;34m(file)\u001b[0m\n\u001b[1;32m      1\u001b[0m \u001b[0;32mdef\u001b[0m \u001b[0mreadData\u001b[0m\u001b[0;34m(\u001b[0m\u001b[0mfile\u001b[0m\u001b[0;34m)\u001b[0m\u001b[0;34m:\u001b[0m\u001b[0;34m\u001b[0m\u001b[0;34m\u001b[0m\u001b[0m\n\u001b[1;32m      2\u001b[0m     \u001b[0;32mwith\u001b[0m \u001b[0mopen\u001b[0m\u001b[0;34m(\u001b[0m\u001b[0mfile\u001b[0m\u001b[0;34m)\u001b[0m \u001b[0;32mas\u001b[0m \u001b[0mf\u001b[0m\u001b[0;34m:\u001b[0m\u001b[0;34m\u001b[0m\u001b[0;34m\u001b[0m\u001b[0m\n\u001b[0;32m----> 3\u001b[0;31m         \u001b[0mlines\u001b[0m \u001b[0;34m=\u001b[0m \u001b[0mf\u001b[0m\u001b[0;34m.\u001b[0m\u001b[0mreadlines\u001b[0m\u001b[0;34m(\u001b[0m\u001b[0;34m)\u001b[0m\u001b[0;34m.\u001b[0m\u001b[0msplit\u001b[0m\u001b[0;34m(\u001b[0m\u001b[0;34m\" \"\u001b[0m\u001b[0;34m)\u001b[0m\u001b[0;34m\u001b[0m\u001b[0;34m\u001b[0m\u001b[0m\n\u001b[0m\u001b[1;32m      4\u001b[0m     \u001b[0mqmood\u001b[0m \u001b[0;34m=\u001b[0m \u001b[0;34m{\u001b[0m\u001b[0;34m}\u001b[0m\u001b[0;34m\u001b[0m\u001b[0;34m\u001b[0m\u001b[0m\n\u001b[1;32m      5\u001b[0m     \u001b[0mqmood\u001b[0m\u001b[0;34m[\u001b[0m\u001b[0;34m\"Effectiveness\"\u001b[0m\u001b[0;34m]\u001b[0m\u001b[0;34m=\u001b[0m\u001b[0;34m[\u001b[0m\u001b[0;34m]\u001b[0m\u001b[0;34m\u001b[0m\u001b[0;34m\u001b[0m\u001b[0m\n",
      "\u001b[0;31mAttributeError\u001b[0m: 'list' object has no attribute 'split'"
     ]
    }
   ],
   "source": [
    "file = \"/Users/leichen/Desktop/FUN.NSGAII.SubsetSum\"\n",
    "qmood = readData(file)\n",
    "draw_dict(qmood,name = \"20211106.png\")"
   ]
  },
  {
   "cell_type": "code",
   "execution_count": null,
   "metadata": {},
   "outputs": [],
   "source": []
  }
 ],
 "metadata": {
  "kernelspec": {
   "display_name": "python36",
   "language": "python",
   "name": "py36"
  },
  "language_info": {
   "codemirror_mode": {
    "name": "ipython",
    "version": 3
   },
   "file_extension": ".py",
   "mimetype": "text/x-python",
   "name": "python",
   "nbconvert_exporter": "python",
   "pygments_lexer": "ipython3",
   "version": "3.6.12"
  }
 },
 "nbformat": 4,
 "nbformat_minor": 4
}
